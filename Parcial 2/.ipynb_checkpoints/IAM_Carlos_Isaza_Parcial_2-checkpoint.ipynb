{
 "cells": [
  {
   "cell_type": "markdown",
   "metadata": {},
   "source": [
    "$Aprendizaje\\ de\\ Máquina\\\\\n",
    "Parcial\\ 2\\\\ \n",
    "14\\ de\\ Julio\\ de\\ 2021\\\\\n",
    "Profesor:\\ Francisco\\ Gomez\\\\\n",
    "Estudiante:\\ Carlos\\ Ernesto\\ Isaza\\ Cavajal$"
   ]
  },
  {
   "cell_type": "markdown",
   "metadata": {},
   "source": [
    "### Ejercicio 1.12\n",
    "\n",
    "Una amiga se acerca a ti con un problema de aprendizaje. Ella dice que la función objetivo $f$ es completamente desconocida, pero tiene 4000 puntos de datos. Ella está dispuesta a pagarte para que resuelvas su problema y le produzca una $g$ que se aproxime a $f$. ¿Qué es lo mejor que puedes prometerle entre los siguientes?\n",
    "\n",
    "\n",
    "(a) Después de aprender, le proporcionará una $g$ que le garantizará aproximaciones fuera de la muestra.\n",
    "\n",
    "(b) Después de aprender, le proporcionará una $g$, y con una alta probabilidad de que la $g$ que produzca se aproximará a $f$  bastante fuera de la muestra.\n",
    "\n",
    "(c) Sucederá una de dos cosas:\n",
    "(i) Producirá una hipótesis $g$;\n",
    "(ii) Declarará que fracasó.\n",
    "Si devuelve una hipótesis $g$, entonces con alta probabilidad la $g$ que\n",
    "que produzca se aproximará bien fuera de la muestra.\n",
    "\n",
    "### Solución\n",
    "\n",
    "Para prometerle algo a nuestra amiga, y no decepcionarla, primero recordemos que por la desigualdad de Hoeffding tenemos que: \n",
    "$$Pr\\left[|E_{in}(g)-E_{out}(g)|>\\epsilon\\right]\\leq2Me^{-2N\\epsilon^{2}}$$\n",
    "donde $M$ es el tamaño del espacio de hipótesis, $N$ es el tamaño de los datos y $\\epsilon$ es la tolerancia entre la diferencia de los errores. Sea $\\delta$ la tolerancia de la \"mala probabilidad\", si despejamos $\\epsilon$ y $\\delta$ de la anterior inecuación obtenemos, respectivamente:\n",
    "$$\\epsilon=\\sqrt{\\frac{1}{2N}\\ln{\\frac{2M}{\\delta}}}$$\n",
    "y\n",
    "$$\\delta=2Me^{-2N\\epsilon^{2}}$$.\n",
    "Observemos como se comporta $\\epsilon$ con $M$ cada vez más grande:"
   ]
  },
  {
   "cell_type": "code",
   "execution_count": 56,
   "metadata": {},
   "outputs": [
    {
     "name": "stdout",
     "output_type": "stream",
     "text": [
      "[0.036394770800720934, 0.04677658336721245, 0.055240548163306126, 0.0625698615249811, 0.06912638411726797]\n"
     ]
    }
   ],
   "source": [
    "import math as m\n",
    "import numpy as np\n",
    "\n",
    "N=4000\n",
    "delta=0.005\n",
    "M=[100,100000,100000000,100000000000,100000000000000]\n",
    "epsi=[]\n",
    "for i in M:\n",
    "    epsi.append((1/(2*N)*m.log(2*i/delta))**(1/2))\n",
    "    \n",
    "    \n",
    "print(epsi)"
   ]
  },
  {
   "cell_type": "markdown",
   "metadata": {},
   "source": [
    "Se observa que aun con espacios de hipótesis muy grandes la tolerancia  la diferencia de los errores es menor a $0.07$ y que la probabilidad de que esto ocurra es menor o igual al $0.5\\%$, lo cual es una tolerancia relativamente baja.\n",
    "\n",
    "Ahora veamos como se comporta $\\delta$ con $\\epsilon$ cada vez más grande:"
   ]
  },
  {
   "cell_type": "code",
   "execution_count": 57,
   "metadata": {},
   "outputs": [
    {
     "name": "stdout",
     "output_type": "stream",
     "text": [
      "[0.0018909772547773083, 1.1618565808665404e-08, 1.4412773721802804e-14, 3.609702775690779e-21]\n"
     ]
    }
   ],
   "source": [
    "\n",
    "N=4000\n",
    "delta=[]\n",
    "M=100000000000000\n",
    "epsi=[0.07,0.08,0.09,0.1]\n",
    "for i in epsi:\n",
    "    delta.append(2*M*np.exp(-2*N*(i**2)))\n",
    "    \n",
    "    \n",
    "print(delta)"
   ]
  },
  {
   "cell_type": "markdown",
   "metadata": {},
   "source": [
    "Se observa que la probabilidad de que los errores se distancien más de $0.07$ es menor al $0.2\\%$.\n",
    "\n",
    "Por tanto le podemos decir a nuestra amiga con toda confianza que si los datos tienen algún patron, con los $4000$ datos que tiene le podemos garantizar un $g$ que aproxime muy bien a $f$; pero si los datos no tiene un patron o este es demasiado complejo, no le podemos garantizar ninguna $g$. \n",
    "\n",
    "Luego, la repuesta correcta es la (c)."
   ]
  },
  {
   "cell_type": "markdown",
   "metadata": {},
   "source": [
    "### Problema 1.2\n",
    "\n",
    "Considere el perceptrón en dos dimensiones: $h(X)=sig(W^{T}X)$\n",
    "donde $W=\\left[w_{0},w_{1},w_{2}\\right]^{T}$ y $X=\\left[1,x_{1},x_{2}\\right]^{T}$. Técnicamente, $X$ tiene tres coordenadas, pero llamamos a este perceptrón bidimensional porque la primera coordenada está fija en $1$.\n",
    "\n",
    "### (a)\n",
    "\n",
    "Muestre que las regiones en el plano donde $h(X)=+1$ y $h(X)=-1$ están separadas por una línea. Si expresamos esta recta mediante la ecuación $x_{2}=ax_{1}+b$, ¿cuáles son la pendiente $a$ y la intersección $b$ en términos de $w_{0},w_{1}$ y $w_{2}$?\n",
    "\n",
    "### Solución\n",
    "\n",
    "Note que por definición, \n",
    "$$h(X)=sig(W^{T}X)=\\left\\lbrace\\begin{array}{c} 1~si~w_{0}+w_{1}x_{1}+w_{2}x_{2}>0 \\\\ -1~si~w_{0}+w_{1}x_{1}+w_{2}x_{2}<0 \\end{array}\\right.$$\n",
    "\n",
    "Por lo que el plano $w_{0}+w_{1}x_{1}+w_{2}x_{2}=0$ separa las $X$ tales que $h(X)=+1$ de las $X$ tales que $h(X)=-1$. Despejando $w_{2}$ de la anterior ecuación, tenemos que\n",
    "\n",
    "$$x_{2}=-\\frac{w_{1}}{w_{2}}x_{1}-\\frac{w_{0}}{w_{2}}$$\n",
    "\n",
    "por lo que $a=-\\frac{w_{1}}{w_{2}}$ y $b=-\\frac{w_{0}}{w_{2}}$.\n",
    "\n",
    "### (b) \n",
    "\n",
    "Haga un dibujo para los casos $W=\\left[1,2,3\\right]^{T}$ y $W=\\left[-1,-2,-3\\right]^{T}$.\n",
    "\n",
    "En más de dos dimensiones, las regiones $+1$ y $-1$ están separadas por un hiperplano, la generalización de una línea. \n",
    "\n",
    "### Solución\n",
    "\n",
    "Note que con $W=\\left[1,2,3\\right]^{T}$, obtenemos la ecuación $x_{2}=-\\frac{2}{3}x_{1}-\\frac{1}{3}$; y con $W=\\left[-1,-2,-3\\right]^{T}$ támbien obtenemos la misma ecuación, $x_{2}=-\\frac{-2}{-3}x_{1}-\\frac{-1}{-3}=-\\frac{2}{3}x_{1}-\\frac{1}{3}$. Ahora grafiquemos:"
   ]
  },
  {
   "cell_type": "code",
   "execution_count": 142,
   "metadata": {},
   "outputs": [
    {
     "data": {
      "image/png": "[encoded data removed]",
      "text/plain": [
       "<Figure size 432x288 with 1 Axes>"
      ]
     },
     "metadata": {
      "needs_background": "light"
     },
     "output_type": "display_data"
    }
   ],
   "source": [
    "from matplotlib import pyplot as plt\n",
    "\n",
    "#Se define una función que genere los valores de x2, se ingresa un vector de pesos W, los valores de x1, y devuelve los \n",
    "#valores x2\n",
    "def recta(W,x1):\n",
    "    x2 = [i*(-W[1]/W[2])-W[0]/W[2] for i in x1]\n",
    "    return x2\n",
    "#Se definen los datos de entrada para la función recta\n",
    "x1 = list(range(-10,11))\n",
    "W=[1,2,3]\n",
    "x2=recta(W,x1)\n",
    "\n",
    "#Se grafica\n",
    "plt.plot(x1, x2,'b', label=\"$x_{2}=-2/3x_{1}-1/3$\")\n",
    "plt.scatter(-5,-2,marker='$-$',s=1000,c='red')\n",
    "plt.scatter(2.5,2,marker='+',s=1000,c='g')\n",
    "plt.grid()\n",
    "plt.legend(loc='upper right')\n",
    "plt.xlabel('$x_{1}$')\n",
    "plt.ylabel('$x_{2}$')\n",
    "plt.show()"
   ]
  },
  {
   "cell_type": "markdown",
   "metadata": {},
   "source": [
    "### Problema 1.4\n",
    "\n",
    "En el ejercicio 1.4, usamos un conjunto de datos artificiales para estudiar el algoritmo de aprendizaje del perceptrón. Este problema lo lleva a explorar más el algoritmo con conjuntos de datos de diferentes tamaños y dimensiones.\n",
    "\n",
    "### (a) \n",
    "Genere un conjunto de datos separables linealmente de tamaño $20$ como se indica en el ejercicio 1.4. Grafique los ejemplos $\\{(x_{n}, y_{n})\\}$ así como la función objetivo $f$ en un plano. Asegúrese de marcar los ejemplos de diferentes clases de manera diferente y agregue etiquetas a los ejes del gráfico.\n",
    "\n",
    "### Solución\n",
    "\n",
    "En el ejercicio 1.4 se pide que se elija al azar una recta que divida el plano, esta será nustra función objetivo $f$, y apartir de ésta generar los puntos linealmente separables. El siguiente codigo soluciona este punto."
   ]
  },
  {
   "cell_type": "code",
   "execution_count": 60,
   "metadata": {},
   "outputs": [
    {
     "data": {
      "image/png": "[encoded data removed]",
      "text/plain": [
       "<Figure size 432x288 with 1 Axes>"
      ]
     },
     "metadata": {
      "needs_background": "light"
     },
     "output_type": "display_data"
    }
   ],
   "source": [
    "#Se define una función que genere f, la entrada es la dimensión, los rangos de los pesos y la salida es el vector de pesos Wf \n",
    "def W_f(dim,mino,maximo):\n",
    "    W=np.random.randint(mino*10,maximo*10, size=(dim+1, 1))\n",
    "    return W.flatten()/10\n",
    "#Se define una función que cree un conjunto de datos separables. Sus entrdas son un numero par \n",
    "#de datos (N), el vector de pesos Wf y el el rango de los puntos a evaluar.\n",
    "def datos_separbles(N,Wf,mino,maximo):\n",
    "    dim_aux=len(Wf)\n",
    "    negativos=[]\n",
    "    positivos=[]\n",
    "    while True:\n",
    "        # se crea un vector con una dim más para utilizar el ultimo espacio como marcador de 1 o -1\n",
    "        x1aux=np.random.randint(mino*10,maximo*10, size=(dim_aux+1,1 ))/10\n",
    "        x1aux[0]=1        \n",
    "        eva=np.dot(Wf.flatten(), x1aux[0:-1].flatten())\n",
    "        if eva>0 and len(positivos)<N/2:\n",
    "            x1aux[-1]=1\n",
    "            positivos.append(x1aux.flatten())\n",
    "        if eva<0 and len(negativos)<N/2:\n",
    "            x1aux[-1]=-1\n",
    "            negativos.append(x1aux.flatten())\n",
    "        if len(positivos) == N/2 and len(negativos) == N/2:\n",
    "            break\n",
    "    return np.asarray(positivos),np.asarray(negativos),np.asarray(positivos+negativos)\n",
    "\n",
    "#Se definen los datos para graficar f\n",
    "dim=2\n",
    "mino=-100\n",
    "maximo=100\n",
    "Wf=W_f(dim,mino,maximo)\n",
    "x1 = list(range(-100,101))\n",
    "x2_f=recta(Wf,x1)\n",
    "N=20\n",
    "\n",
    "#Se definen los datos para graficar los puntos separables\n",
    "dSepar=datos_separbles(N,Wf,mino,maximo)\n",
    "positivosx1=[]\n",
    "positivosx2=[]\n",
    "negativosx1=[]\n",
    "negativosx2=[]\n",
    "\n",
    "for i in dSepar[0]:\n",
    "    positivosx1.append(i[1])\n",
    "    positivosx2.append(i[2])\n",
    "for i in dSepar[1]:\n",
    "    negativosx1.append(i[1])\n",
    "    negativosx2.append(i[2])\n",
    "\n",
    "\n",
    "\n",
    "    \n",
    "#Se grafican los resultados\n",
    "plt.plot(x1, x2_f,'b', label=\"$f$\")\n",
    "plt.plot(positivosx1,positivosx2,marker='+',linewidth=0,c='g',label=\"$h(X)=+1$\")\n",
    "plt.plot(negativosx1,negativosx2,marker='$-$',linewidth=0,c='r',label=\"$h(X)=-1$\")\n",
    "plt.legend(bbox_to_anchor=(1.05, 1.0), loc='upper left')\n",
    "plt.xlabel('$x_{1}$')\n",
    "plt.ylabel('$x_{2}$')\n",
    "plt.show()\n"
   ]
  },
  {
   "cell_type": "markdown",
   "metadata": {},
   "source": [
    "### (b) \n",
    "\n",
    "Ejecute el algoritmo de aprendizaje del perceptrón en el conjunto de datos anterior. Informe el número de actualizaciones que realiza el algoritmo antes de converger. Grafique el conjunto de datos $\\{(xn, yn)\\}$, la función objetivo $f$, y la hipótesis final $g$ en la misma figura. Comente si $f$ está cerca de $g$.\n",
    "\n",
    "### Solución\n",
    "\n",
    "En el siguiente código se crea la función del perceptrón y se grafican los datos pedidos."
   ]
  },
  {
   "cell_type": "code",
   "execution_count": 61,
   "metadata": {},
   "outputs": [
    {
     "data": {
      "image/png": "[encoded data removed]",
      "text/plain": [
       "<Figure size 432x288 with 1 Axes>"
      ]
     },
     "metadata": {
      "needs_background": "light"
     },
     "output_type": "display_data"
    },
    {
     "name": "stdout",
     "output_type": "stream",
     "text": [
      "Wf=[-31.2 -55.5  76.7], Wg=[   5.  -107.9  128.3], Actulizaciones=4,cos(Θ)=0.9374834007861612\n"
     ]
    }
   ],
   "source": [
    "#Se define una función con entrada los datos  serapables (dSepar), el rango de los datos y la dimensión de los datos,\n",
    "# la salida son los pesos obtenidos por el algoritmo del perceptrón junto don el numero de actualizaciones\n",
    "def perceptron(dSepar,mino,maximo,dim):\n",
    "    actuali=0    \n",
    "    w0=[1]*(dim+1)#se inicializa w0\n",
    "    while True:\n",
    "        parada=0    \n",
    "        #Se evaluan todos los puntos, si w0 calsifica mal alguno, se actualiza w0 y se vuelven a evaluar los puntos\n",
    "        #desde el principio\n",
    "        for i in dSepar[2]:        \n",
    "            parada+=1\n",
    "            eva=np.dot(w0, i[0:-1].flatten())            \n",
    "            if eva*i[-1]<0 and i[-1]==1:            \n",
    "                w0=w0+i[0:-1].flatten()            \n",
    "                actuali+=1\n",
    "                break\n",
    "            if eva*i[-1]<0 and i[-1]==-1:\n",
    "                w0=w0-i[0:-1].flatten()            \n",
    "                actuali+=1\n",
    "                break       \n",
    "        if parada==len(dSepar[2]):        \n",
    "            break\n",
    "    \n",
    "    return w0,actuali\n",
    "    \n",
    "\n",
    "Aux=perceptron(dSepar,mino,maximo,dim)\n",
    "Wg=Aux[0]\n",
    "actuali=Aux[1]\n",
    "\n",
    "#Se definen los datos para graficar g\n",
    "x2_g=recta(Wg,x1)\n",
    "\n",
    "#Se grafica los datos\n",
    "plt.plot(x1, x2_f,'b', label=\"$f$\")\n",
    "plt.plot(x1, x2_g,'y', label=\"$g$\")\n",
    "plt.plot(positivosx1,positivosx2,marker='+',linewidth=0,c='g',label=\"$h(X)=+1$\")\n",
    "plt.plot(negativosx1,negativosx2,marker='$-$',linewidth=0,c='r',label=\"$h(X)=-1$\")\n",
    "plt.legend(bbox_to_anchor=(1.05, 1.0), loc='upper left')\n",
    "plt.xlabel('$x_{1}$')\n",
    "plt.ylabel('$x_{2}$')\n",
    "plt.show()\n",
    "print(f'Wf={Wf}, Wg={Wg}, Actulizaciones={actuali},cos(Θ)={np.dot(Wf.flatten(), Wg.flatten())/(np.linalg.norm(Wf)*np.linalg.norm(Wg))}')"
   ]
  },
  {
   "cell_type": "markdown",
   "metadata": {},
   "source": [
    "Entre más cercano a $1$ sea el coseno del angulo de los pesos que definen a $f$ y a $g$, estas se parecen más."
   ]
  },
  {
   "cell_type": "markdown",
   "metadata": {},
   "source": [
    "### (c) \n",
    "\n",
    "Repita todo en (b) con otro conjunto de datos generado aleatoriamente de tamaño 20. Compare sus resultados con (b).\n",
    "\n",
    "### Solución\n",
    "\n",
    "Acontinuación se repite el proceso en (b), mateniendo la misma $f$ pero con un conjunto de tados diferente."
   ]
  },
  {
   "cell_type": "code",
   "execution_count": 63,
   "metadata": {},
   "outputs": [
    {
     "data": {
      "image/png": "[encoded data removed]",
      "text/plain": [
       "<Figure size 432x288 with 1 Axes>"
      ]
     },
     "metadata": {
      "needs_background": "light"
     },
     "output_type": "display_data"
    },
    {
     "name": "stdout",
     "output_type": "stream",
     "text": [
      "Wf=[-31.2 -55.5  76.7], Wg=[  6.  -38.3  80. ], Actulizaciones=5,cos(Θ)=0.9111744101851812\n"
     ]
    }
   ],
   "source": [
    "#Se definen los datos para graficar los puntos separables\n",
    "dSepar=datos_separbles(N,Wf,mino,maximo)\n",
    "positivosx1=[]\n",
    "positivosx2=[]\n",
    "negativosx1=[]\n",
    "negativosx2=[]\n",
    "\n",
    "for i in dSepar[0]:\n",
    "    positivosx1.append(i[1])\n",
    "    positivosx2.append(i[2])\n",
    "for i in dSepar[1]:\n",
    "    negativosx1.append(i[1])\n",
    "    negativosx2.append(i[2])\n",
    "\n",
    "Aux=perceptron(dSepar,mino,maximo,dim)\n",
    "Wg=Aux[0]\n",
    "actuali=Aux[1]\n",
    "\n",
    "#Se definen los datos para graficar g\n",
    "x2_g=recta(Wg,x1)\n",
    "\n",
    "#Se grafica los datos\n",
    "plt.plot(x1, x2_f,'b', label=\"$f$\")\n",
    "plt.plot(x1, x2_g,'y', label=\"$g$\")\n",
    "plt.plot(positivosx1,positivosx2,marker='+',linewidth=0,c='g',label=\"$h(X)=+1$\")\n",
    "plt.plot(negativosx1,negativosx2,marker='$-$',linewidth=0,c='r',label=\"$h(X)=-1$\")\n",
    "plt.legend(bbox_to_anchor=(1.05, 1.0), loc='upper left')\n",
    "plt.xlabel('$x_{1}$')\n",
    "plt.ylabel('$x_{2}$')\n",
    "plt.show()\n",
    "print(f'Wf={Wf}, Wg={Wg}, Actulizaciones={actuali},cos(Θ)={np.dot(Wf.flatten(), Wg.flatten())/(np.linalg.norm(Wf)*np.linalg.norm(Wg))}')\n"
   ]
  },
  {
   "cell_type": "markdown",
   "metadata": {
    "scrolled": true
   },
   "source": [
    "Al comparar los resultados con (b) se observa que el numero de actualizaciones y el parecido de las funciones se ve afectado por el conjunto de datos separables. Sin embargo al correr el anterior codigo varias veces se observa que el numero de actualizaciones solo difiere en unas pocas unidades, al contrario, el parecido de las funciones varia bastante, aveces separecen más que en (b) y aveces menos."
   ]
  },
  {
   "cell_type": "markdown",
   "metadata": {},
   "source": [
    "### (d) \n",
    "\n",
    "Repita todo en (b) con otro conjunto de datos generado aleatoriamente de tamaño 100. Compare sus resultados con (b).\n",
    "\n",
    "### Solución\n",
    "\n",
    "Se repite lo hecho en (b) y (c) manteniendo la misma $f$ pero con una tamaño de $N=100$ en vez de $20$."
   ]
  },
  {
   "cell_type": "code",
   "execution_count": 75,
   "metadata": {},
   "outputs": [
    {
     "data": {
      "image/png": "[encoded data removed]",
      "text/plain": [
       "<Figure size 432x288 with 1 Axes>"
      ]
     },
     "metadata": {
      "needs_background": "light"
     },
     "output_type": "display_data"
    },
    {
     "name": "stdout",
     "output_type": "stream",
     "text": [
      "Wf=[-31.2 -55.5  76.7], Wg=[  18.  -114.3  181.2], Actulizaciones=19,cos(Θ)=0.9182999818295874\n"
     ]
    }
   ],
   "source": [
    "\n",
    "N=100\n",
    "\n",
    "#Se definen los datos para graficar los puntos separables\n",
    "dSepar=datos_separbles(N,Wf,mino,maximo)\n",
    "positivosx1=[]\n",
    "positivosx2=[]\n",
    "negativosx1=[]\n",
    "negativosx2=[]\n",
    "\n",
    "for i in dSepar[0]:\n",
    "    positivosx1.append(i[1])\n",
    "    positivosx2.append(i[2])\n",
    "for i in dSepar[1]:\n",
    "    negativosx1.append(i[1])\n",
    "    negativosx2.append(i[2])\n",
    "\n",
    "Aux=perceptron(dSepar,mino,maximo,dim)\n",
    "Wg=Aux[0]\n",
    "actuali=Aux[1]\n",
    "\n",
    "#Se definen los datos para graficar g\n",
    "x2_g=recta(Wg,x1)\n",
    "\n",
    "#Se grafica los datos\n",
    "plt.plot(x1, x2_f,'b', label=\"$f$\")\n",
    "plt.plot(x1, x2_g,'y', label=\"$g$\")\n",
    "plt.plot(positivosx1,positivosx2,marker='+',linewidth=0,c='g',label=\"$h(X)=+1$\")\n",
    "plt.plot(negativosx1,negativosx2,marker='$-$',linewidth=0,c='r',label=\"$h(X)=-1$\")\n",
    "plt.legend(bbox_to_anchor=(1.05, 1.0), loc='upper left')\n",
    "plt.xlabel('$x_{1}$')\n",
    "plt.ylabel('$x_{2}$')\n",
    "plt.show()\n",
    "print(f'Wf={Wf}, Wg={Wg}, Actulizaciones={actuali},cos(Θ)={np.dot(Wf.flatten(), Wg.flatten())/(np.linalg.norm(Wf)*np.linalg.norm(Wg))}')\n"
   ]
  },
  {
   "cell_type": "markdown",
   "metadata": {},
   "source": [
    "Aquí vemos que, con un tamaño de $100$ de datos, hay más actulizaciones actualizaciones que en (b) pero no un aumento significativamente grande; al ejecutar el codigo anterior varias veces se observa que el parecido de las funciones si aumentó comparado con (b), esto puede deberse a que con mayor cantidad de puntos las $g$ tiene un menor grado de libertad."
   ]
  },
  {
   "cell_type": "markdown",
   "metadata": {},
   "source": [
    "### (e) \n",
    "\n",
    "Repita todo en (b) con otro conjunto de datos generado aleatoriamente de tamaño 1,000. Compare sus resultados con (b).\n",
    "\n",
    "### Solución\n",
    "\n",
    "Se repite lo hecho en (b), (c) y (d) manteniendo la misma $f$ pero con una tamaño de $N=1000$ en vez de $20$.\n",
    "#### Nota:\n",
    "En este punto el tiempo de ejecución aumentó drasticamente. Para mejorarlo se modifica la función del perceptrón inicializando w0 en un peso aleatorio, con esta modificación el tiempo paso de minutos a segundos."
   ]
  },
  {
   "cell_type": "code",
   "execution_count": 78,
   "metadata": {},
   "outputs": [
    {
     "data": {
      "image/png": "[encoded data removed]",
      "text/plain": [
       "<Figure size 432x288 with 1 Axes>"
      ]
     },
     "metadata": {
      "needs_background": "light"
     },
     "output_type": "display_data"
    },
    {
     "name": "stdout",
     "output_type": "stream",
     "text": [
      "Wf=[-31.2 -55.5  76.7], Wg=[ -343.7 -2400.5  3349.6], Actulizaciones=4844,cos(Θ)=0.9724733844842443\n"
     ]
    }
   ],
   "source": [
    "def perceptron(dSepar,mino,maximo,dim):\n",
    "    actuali=0    \n",
    "    w0=W_f(dim,mino,maximo)#se crea un vector de pesos aleatorio\n",
    "    while True:\n",
    "        parada=0    \n",
    "        for i in dSepar[2]:        \n",
    "            parada+=1\n",
    "            eva=np.dot(w0.flatten(), i[0:-1].flatten())            \n",
    "            if eva*i[-1]<0 and i[-1]==1:            \n",
    "                w0=w0.flatten()+i[0:-1].flatten()            \n",
    "                actuali+=1\n",
    "                break\n",
    "            if eva*i[-1]<0 and i[-1]==-1:\n",
    "                w0=w0.flatten()-i[0:-1].flatten()            \n",
    "                actuali+=1\n",
    "                break       \n",
    "        if parada==len(dSepar[2]):        \n",
    "            break\n",
    "    \n",
    "    return w0,actuali\n",
    "N=1000\n",
    "\n",
    "#Se definen los datos para graficar los puntos separables\n",
    "dSepar=datos_separbles(N,Wf,mino,maximo)\n",
    "positivosx1=[]\n",
    "positivosx2=[]\n",
    "negativosx1=[]\n",
    "negativosx2=[]\n",
    "\n",
    "for i in dSepar[0]:\n",
    "    positivosx1.append(i[1])\n",
    "    positivosx2.append(i[2])\n",
    "for i in dSepar[1]:\n",
    "    negativosx1.append(i[1])\n",
    "    negativosx2.append(i[2])\n",
    "\n",
    "Aux=perceptron(dSepar,mino,maximo,dim)\n",
    "Wg=Aux[0]\n",
    "actuali=Aux[1]\n",
    "\n",
    "#Se definen los datos para graficar g\n",
    "x2_g=recta(Wg,x1)\n",
    "\n",
    "#Se grafica los datos\n",
    "plt.plot(x1, x2_f,'b', label=\"$f$\")\n",
    "plt.plot(x1, x2_g,'y', label=\"$g$\")\n",
    "plt.plot(positivosx1,positivosx2,marker='+',linewidth=0,c='g',label=\"$h(X)=+1$\")\n",
    "plt.plot(negativosx1,negativosx2,marker='$-$',linewidth=0,c='r',label=\"$h(X)=-1$\")\n",
    "plt.legend(bbox_to_anchor=(1.05, 1.0), loc='upper left')\n",
    "plt.xlabel('$x_{1}$')\n",
    "plt.ylabel('$x_{2}$')\n",
    "plt.show()\n",
    "print(f'Wf={Wf}, Wg={Wg}, Actulizaciones={actuali},cos(Θ)={np.dot(Wf.flatten(), Wg.flatten())/(np.linalg.norm(Wf)*np.linalg.norm(Wg))}')\n"
   ]
  },
  {
   "cell_type": "markdown",
   "metadata": {},
   "source": [
    "Hay una cantidad de actualizaciones mucho mayor que en (b), pasa de unas unidades a miles, y las funciones se parecen pero no mucho más que algunos resultados en (d)."
   ]
  },
  {
   "cell_type": "markdown",
   "metadata": {},
   "source": [
    "### (f)\n",
    "\n",
    "Modifique el algoritmo de modo que tome $X_{n}\\in  \\mathbb{R}^{10}$ en lugar de $\\mathbb{R}^2$. Genere aleatoriamente un conjunto de datos separables linealmente de tamaño 1000 con $X_{n}\\in  \\mathbb{R}^{10}$ y alimente el conjunto de datos al algoritmo. ¿Cuántas actualizaciones necesita el algoritmo para converger?\n",
    "\n",
    "### Solución\n",
    "\n",
    "Se procede como en (e) pero con $dim=10$ en vez de $2$, y naturalmente con una nueva función abjetivo, se descarta la grafica."
   ]
  },
  {
   "cell_type": "code",
   "execution_count": 81,
   "metadata": {},
   "outputs": [
    {
     "name": "stdout",
     "output_type": "stream",
     "text": [
      "Wf=[-92.2  20.9 -96.  -14.7  -8.1  98.8 -63.6 -38.7 -57.8   7.4 -67.4]\n",
      "Wg=[  1610.4   2668.3 -12489.8  -1870.7   -869.2  12909.1  -8512.2  -4954.1\n",
      "  -7607.6   1059.1  -8774.4]\n",
      "Actulizaciones=26060\n",
      "cos(Θ)=0.8596146561421913\n"
     ]
    }
   ],
   "source": [
    "dim=10\n",
    "mino=-100\n",
    "maximo=100\n",
    "Wf=W_f(dim,mino,maximo)\n",
    "N=1000\n",
    "dSepar=datos_separbles(N,Wf,mino,maximo)\n",
    "Aux=perceptron(dSepar,mino,maximo,dim)\n",
    "Wg=Aux[0]\n",
    "actuali=Aux[1]\n",
    "print(f'Wf={Wf}\\nWg={Wg}\\nActulizaciones={actuali}\\ncos(Θ)={np.dot(Wf.flatten(), Wg.flatten())/(np.linalg.norm(Wf)*np.linalg.norm(Wg))}')"
   ]
  },
  {
   "cell_type": "markdown",
   "metadata": {},
   "source": [
    "Al ejecutar el código anterior varias veces se observa que hay un aumento significativo en el numero de actualizaciones, pero el parecido de las funciones varia bastante."
   ]
  },
  {
   "cell_type": "markdown",
   "metadata": {},
   "source": [
    "### (g) \n",
    "\n",
    "Repita el algoritmo en el mismo conjunto de datos que (f) para 100 experimentos. En las iteraciones de cada experimento, elija $x(t)$ de forma aleatoria en lugar de determinista. Trace un histograma para el número de actualizaciones que el algoritmo necesita para converger.\n",
    "\n",
    "### Solución\n",
    "\n",
    "Se procede 100 veces como en  (f), dejando el mismo conjunto de datos y el la misma función objetivo $f$."
   ]
  },
  {
   "cell_type": "code",
   "execution_count": 83,
   "metadata": {},
   "outputs": [
    {
     "data": {
      "image/png": "[encoded data removed]",
      "text/plain": [
       "<Figure size 432x288 with 1 Axes>"
      ]
     },
     "metadata": {
      "needs_background": "light"
     },
     "output_type": "display_data"
    }
   ],
   "source": [
    "import random\n",
    "# Se modifica la función perceptron para que tome los datos de dSepar de forma aleatoria\n",
    "def perceptron2(dSepar,mino,maximo,dim):\n",
    "    actuali=0    \n",
    "    w0=W_f(dim,mino,maximo)#se crea un vector de pesos aleatorio\n",
    "    \n",
    "    while True:\n",
    "        \n",
    "        parada=0 \n",
    "        indices=list(range(len(dSepar[2])))\n",
    "        for i in range(len(dSepar[2])):        \n",
    "            parada+=1\n",
    "            azar=random.choice(indices)\n",
    "            eva=np.dot(w0.flatten(), dSepar[2][azar][0:-1].flatten())            \n",
    "            if eva*dSepar[2][azar][-1]<0 and dSepar[2][azar][-1]==1:            \n",
    "                w0=w0.flatten()+dSepar[2][azar][0:-1].flatten()            \n",
    "                actuali+=1\n",
    "                break\n",
    "            if eva*dSepar[2][azar][-1]<0 and dSepar[2][azar][-1]==-1:\n",
    "                w0=w0.flatten()-dSepar[2][azar][0:-1].flatten()            \n",
    "                actuali+=1\n",
    "                break\n",
    "            indices.remove(azar)\n",
    "        if parada==len(dSepar[2]):        \n",
    "            break\n",
    "    \n",
    "    return w0,actuali\n",
    "\n",
    "#Se corre el experiemnto 100 veces y se almacenan los numero de actualizaciones \n",
    "actualizaciones=[]\n",
    "for i in range(99):\n",
    "    Aux=perceptron2(dSepar,mino,maximo,dim)\n",
    "    actuali=Aux[1]\n",
    "    actualizaciones.append(actuali)\n",
    "# Se grafica el histograma\n",
    "plt.hist(actualizaciones)\n",
    "plt.xlabel('Actulizaciones')\n",
    "plt.ylabel('Experimentos')\n",
    "plt.show()"
   ]
  },
  {
   "cell_type": "markdown",
   "metadata": {},
   "source": [
    "### (h) \n",
    "\n",
    "Resuma sus conclusiones con respecto a la precisión y el tiempo de ejecución en función de N y dim. \n",
    "\n",
    "### Solución\n",
    "\n",
    "De los items (b) a (e) se observa que a mayor número de datos, se necesitan más actualizaciones en el algoritmo del perceptrón; la precision varia de experimento en experimento pero parece depender del tamaño de los datos, a mayor cantidad de datos $g$ tienen menos \"libertad de movimiento\" y se acercan más a $f$. En el item (f), al cambiar la dimensión a 10, el problema aumenta en complejidad pasando de cientos de actualizaciones, aveces algunos miles (con dim=2), a varios miles de actualizaciones; esto se ve reflejado en el histograma del punto (g)."
   ]
  },
  {
   "cell_type": "markdown",
   "metadata": {},
   "source": [
    "### Problema 1.6 \n",
    "\n",
    "Considere una muestra de 10 canicas extraídas independientemente de un recipiente que contiene canicas rojas y verdes. La probabilidad de sacar una canica roja es $\\mu$.\n",
    "Para $\\mu=0.05$, $\\mu=0.5$ y $\\mu=0.8$, calcule la probabilidad de no obtener canicas rojas (v=0, con v la fracción de canicas roja en la muestra) en los siguientes casos.\n",
    "\n",
    "### (a)\n",
    "\n",
    "Extraemos solo una de esas muestras. Calcule la probabilidad de que v=0.\n",
    "\n",
    "### Solución\n",
    "\n",
    "Para que v sea igual a 0, cada canica que se extraiga debe ser verde; la probabilidad de sacar una canica verde es $1-\\mu$; como cada canica es extraída independientemente, las probabilidades de sacar una canica verde se multiplican, entonces $P\\left[v=0\\right]=(1-\\mu)^{10}$. A continuación se calculan las probabilidades pedidas."
   ]
  },
  {
   "cell_type": "code",
   "execution_count": 85,
   "metadata": {},
   "outputs": [
    {
     "name": "stdout",
     "output_type": "stream",
     "text": [
      "P[v=0]=0.5987369392383787, con 𝜇=0.05\n",
      "P[v=0]=0.0009765625, con 𝜇=0.5\n",
      "P[v=0]=1.0239999999999978e-07, con 𝜇=0.8\n"
     ]
    }
   ],
   "source": [
    "mu=[0.05,0.5,0.8]\n",
    "Pv0=[(1-i)**(10) for i in mu]\n",
    "for i in range(3):\n",
    "    print(f'P[v=0]={Pv0[i]}, con 𝜇={mu[i]}')"
   ]
  },
  {
   "cell_type": "markdown",
   "metadata": {},
   "source": [
    "### (b) \n",
    "\n",
    "Extraemos 1000 muestras independientes. Calcule la probabilidad de que (al menos) una de las muestras tenga v=0.\n",
    "\n",
    "### Solucion\n",
    "\n",
    "Note que, como las muestras son independientes, la probabilidad de que todas las muestras v=0 es de $P\\left[v=0\\right]^{1000}=\\left[(1-\\mu)^{10}\\right]^{1000}$; la probabilidad de que ninguna de las muestras tenga v=0 es de $\\left[1-P\\left[v=0\\right]\\right]^{1000}=\\left[1-(1-\\mu)^{10}\\right]^{1000}$; luego, la probabilidad de que alguna de las muestras tenga v=0 es de $1-\\left[1-P\\left[v=0\\right]\\right]^{1000}=1-\\left[1-(1-\\mu)^{10}\\right]^{1000}$. A continuación se calculan las probabilidades pedidas."
   ]
  },
  {
   "cell_type": "code",
   "execution_count": 86,
   "metadata": {},
   "outputs": [
    {
     "name": "stdout",
     "output_type": "stream",
     "text": [
      "P[v=0]=1.0, con 𝜇=0.05\n",
      "P[v=0]=0.623576201943276, con 𝜇=0.5\n",
      "P[v=0]=0.00010239476257623004, con 𝜇=0.8\n"
     ]
    }
   ],
   "source": [
    "Pv0=[1-(1-(1-i)**(10))**(1000) for i in mu]\n",
    "for i in range(3):\n",
    "    print(f'P[v=0]={Pv0[i]}, con 𝜇={mu[i]}')"
   ]
  },
  {
   "cell_type": "markdown",
   "metadata": {},
   "source": [
    "### (c)\n",
    "\n",
    "Repita (b) para 1000000 muestras independientes.\n",
    "\n",
    "### Solución\n",
    "\n",
    "En este caso la probabilidad de que alguna muestra tenga v=0 es $1-\\left[1-P\\left[v=0\\right]\\right]^{1000000}=1-\\left[1-(1-\\mu)^{10}\\right]^{1000000}$. A continuación se calculan las probabilidades pedidas."
   ]
  },
  {
   "cell_type": "code",
   "execution_count": 87,
   "metadata": {},
   "outputs": [
    {
     "name": "stdout",
     "output_type": "stream",
     "text": [
      "P[v=0]=1.0, con 𝜇=0.05\n",
      "P[v=0]=1.0, con 𝜇=0.5\n",
      "P[v=0]=0.09733159268316072, con 𝜇=0.8\n"
     ]
    }
   ],
   "source": [
    "Pv0=[1-(1-(1-i)**(10))**(1000000) for i in mu]\n",
    "for i in range(3):\n",
    "    print(f'P[v=0]={Pv0[i]}, con 𝜇={mu[i]}')"
   ]
  },
  {
   "cell_type": "markdown",
   "metadata": {},
   "source": [
    "En este problema vemos como la probabilidad de que alguna muestra tenga v=0, es decir que todas las canicas sean verdes, aumenta cuando lo intentamos varias veces. Esto nos recuerda que la desiguladad de Hoeffding solo funciona para un solo experimento, es decir para una sola hipótesis, no cuando elegimos una de varias. "
   ]
  },
  {
   "cell_type": "markdown",
   "metadata": {},
   "source": [
    "### Problem 1.12 \n",
    "\n",
    "Este problema investiga cómo cambiar la medida del error puede cambiar el resultado del proceso de aprendizaje. Tiene N puntos de datos $y_{1}\\leq...y_{N}$ y desea estimar un valor \"representativo\" (se entiende por representativo a encotrar una hipotesis $h$ que se a juste a los datos).\n",
    "\n",
    "### (a)\n",
    "\n",
    "Si su algoritmo es encontrar la hipótesis $h$ que minimiza la suma de las desviaciones cuadradas dentro de la muestra, \n",
    "\n",
    "$$E_{in}(h)=\\sum_{n=1}^{N}(h-y_n)^2$$\n",
    "\n",
    "entonces demuestre que su estimación será la media de la muestra,\n",
    "\n",
    "$$h_{mean} = \\frac{1}{N} \\sum_{n=1}^{N}y_n$$\n",
    "\n",
    "### Solución \n",
    "\n",
    "Como $E_{in}(h)$ es una función convexa, es más, es un paraboloide que abre hacia arriba, entonces existe un $h$ donde la función se hace mínima. Para encontrar esa (h) basta derivar $E_{in}(h)$ con respcto a $h$, igualar a cero y despejar $h$.\n",
    "\n",
    "$$\\frac{\\partial{E_{in}(h)}}{\\partial{h}}= \\sum_{n=1}^{N}2(h-y_n) $$\n",
    "$$\\sum_{n=1}^{N}2(h-y_n)=0$$\n",
    "$$h=\\frac{1}{N}\\sum_{n=1}^{N}y_n$$\n",
    "\n",
    "Para dar un ejemplo en el plano el siguiente código asume que $h$ no varía con $y_{i}$, grafica $E_{in}(h)$ y $h_{mean}$."
   ]
  },
  {
   "cell_type": "code",
   "execution_count": 135,
   "metadata": {},
   "outputs": [
    {
     "data": {
      "text/plain": [
       "<matplotlib.legend.Legend at 0x18546bfd988>"
      ]
     },
     "execution_count": 135,
     "metadata": {},
     "output_type": "execute_result"
    },
    {
     "data": {
      "image/png": "[encoded data removed]",
      "text/plain": [
       "<Figure size 432x288 with 1 Axes>"
      ]
     },
     "metadata": {
      "needs_background": "light"
     },
     "output_type": "display_data"
    }
   ],
   "source": [
    "y=[1,2,3,4,5,6,7,8,9,10]\n",
    "h=list(range(-100,100))\n",
    "\n",
    "def E_in(h,y):\n",
    "    suma=0\n",
    "    for i in y:\n",
    "        suma+=(h-i)**2\n",
    "    return suma\n",
    "def h_mean(y):\n",
    "    return 1/len(y)*sum(y)\n",
    "h_mean=h_mean(y)\n",
    "x2=[]\n",
    "for i in h:\n",
    "    x2.append(E_in(i,y))\n",
    "plt.plot(h,x2,'b',label=\"$E_{in}$\")\n",
    "plt.grid()\n",
    "plt.scatter(h_mean,E_in(h_mean,y),marker='.',s=500,c='r',label=\"$h_{mean}$\")\n",
    "plt.xlabel('$h$')\n",
    "plt.ylabel('$𝐸𝑖𝑛(ℎ)$')\n",
    "plt.legend(bbox_to_anchor=(1.05, 1.0), loc='upper left')"
   ]
  },
  {
   "cell_type": "markdown",
   "metadata": {},
   "source": [
    "### (b)\n",
    "\n",
    "Si su algoritmo es encontrar la hipótesis $h$ que minimiza la suma de las desviaciones absolutas en la muestra,\n",
    "\n",
    "$$E_{in}(h)=\\sum_{n=1}^{N}|h-y_n|$$\n",
    "\n",
    "entonces muestre que su estimación será la mediana de la muestra $h_{med}$, que es cualquier valor para el cual la mitad de los puntos de la muestra son como máximo $h_{med}$ y la mitad de los puntos de la muestra son al menos $h_{med}$.\n",
    "\n",
    "### Solución:\n",
    "\n",
    "Igual que en (a) la función tiene un mínimo y para encontrarlo derivamos con respecto a $h$, igualamos a cero y analizamos para qué valores de $h$ la derivada parcial se anula.\n",
    "\n",
    "$$\\frac{\\partial{E_{in}(h)}}{\\partial{h}}=\\sum_{n=1}^{N}\\frac{h-y_n}{|h-y_n|}=\\sum_{n=1}^{N}sign(h - y_n) ~con ~h ~diferente ~de ~y_n$$\n",
    "$$\\sum_{n=1}^{N}sign(h - y_n)=0$$\n",
    "\n",
    "para que la última igualdad se tenga, la mitad de los sumandos debe ser $1$ y la otra mitad $-1$; por tanto $N$ debe ser par, y en efecto se puede elegir cualquier valor $h_{med}$ tal que $h_{med}$ sea mayor a la mitad de los datos y menor a la otra mitad. Por ejemplo $y_{\\frac{N}{2}}+\\epsilon$, con $\\epsilon$ lo suficientmente pequeño para que $y_{\\frac{N}{2}}+\\epsilon<y_{\\frac{N}{2}+1}$.\n",
    "\n",
    "Acontinuacion se ejemplifica este resultado.\n"
   ]
  },
  {
   "cell_type": "code",
   "execution_count": 134,
   "metadata": {},
   "outputs": [
    {
     "data": {
      "text/plain": [
       "<matplotlib.legend.Legend at 0x18546b74548>"
      ]
     },
     "execution_count": 134,
     "metadata": {},
     "output_type": "execute_result"
    },
    {
     "data": {
      "image/png": "[encoded data removed]",
      "text/plain": [
       "<Figure size 432x288 with 1 Axes>"
      ]
     },
     "metadata": {
      "needs_background": "light"
     },
     "output_type": "display_data"
    }
   ],
   "source": [
    "import statistics as stats\n",
    "\n",
    "y=[1,2,3,4,5,6,7,8,9,10]\n",
    "h=list(range(-100,100))\n",
    "\n",
    "def E_in(h,y):\n",
    "    suma=0\n",
    "    for i in y:\n",
    "        suma+=abs(h-i)\n",
    "    return suma\n",
    "def h_med(y):\n",
    "    return stats.median(y)\n",
    "h_med=h_med(y)\n",
    "x2=[]\n",
    "for i in h:\n",
    "    x2.append(E_in(i,y))\n",
    "plt.plot(h,x2,'b',label=\"$E_{in}$\")\n",
    "plt.grid()\n",
    "plt.scatter(h_med,E_in(h_med,y),marker='.',s=500,c='r',label=\"$h_{med}$\")\n",
    "plt.xlabel('$h$')\n",
    "plt.ylabel('$𝐸𝑖𝑛(ℎ)$')\n",
    "plt.legend(bbox_to_anchor=(1.05, 1.0), loc='upper left')"
   ]
  },
  {
   "cell_type": "markdown",
   "metadata": {},
   "source": [
    "### (c)\n",
    "\n",
    "Suponga que $y_N$ se perturba a $y_N + \\delta$, donde $\\delta \\to \\infty$. Por tanto, $y_N$ es el único punto de la muestra que se convierte en un valor atípico. ¿Qué sucede con sus dos estimadores $h_{mean}$, y $h_{med}$? \n",
    "\n",
    "### Solución\n",
    "\n",
    "Para $h_{mean}$ tenemos que,\n",
    "$$h_{mean}=\\frac{\\delta}{N}+\\frac{1}{N}\\sum_{n=1}^{N}y_n$$\n",
    "por tanto se incrementa en $\\frac{\\delta}{N}$.\n",
    "\n",
    "Y $h_{med}$ no se modifica porque se tiene la desigualdad $h_{med}<y_N + \\delta$."
   ]
  },
  {
   "cell_type": "markdown",
   "metadata": {},
   "source": [
    "### ANEXO\n",
    "\n",
    "El siguiente código contiene el llamado de las funciones que generan una $f$ aleatoria, una conjunto de datos separables y el perceptrón, para que se ejecute las veces que se desee y se verifique empiricamente que la función del perceptrón funciona bien."
   ]
  },
  {
   "cell_type": "code",
   "execution_count": 24,
   "metadata": {},
   "outputs": [
    {
     "data": {
      "image/png": "[encoded data removed]",
      "text/plain": [
       "<Figure size 432x288 with 1 Axes>"
      ]
     },
     "metadata": {
      "needs_background": "light"
     },
     "output_type": "display_data"
    },
    {
     "name": "stdout",
     "output_type": "stream",
     "text": [
      "Wf=[24.6 71.1 74.7]\n",
      "Wg=[  8.  136.1 148.3]\n",
      "Actulizaciones=7\n",
      "cos(Θ)=0.9809953236561743\n"
     ]
    }
   ],
   "source": [
    "import numpy as np\n",
    "from matplotlib import pyplot as plt\n",
    "#Funciones\n",
    "def recta(W,x1):\n",
    "    x2 = [i*(-W[1]/W[2])-W[0]/W[2] for i in x1]\n",
    "    return x2\n",
    "\n",
    "def W_f(dim,mino,maximo):\n",
    "    W=np.random.randint(mino*10,maximo*10, size=(dim+1, 1))\n",
    "    return W.flatten()/10\n",
    "\n",
    "def datos_separbles(N,Wf,mino,maximo):\n",
    "    dim_aux=len(Wf)\n",
    "    negativos=[]\n",
    "    positivos=[]\n",
    "    while True:\n",
    "        # se crea un vector con una dim más para utilizar el ultimo espacio como marcador de 1 o -1\n",
    "        x1aux=np.random.randint(mino*10,maximo*10, size=(dim_aux+1,1 ))/10\n",
    "        x1aux[0]=1        \n",
    "        eva=np.dot(Wf.flatten(), x1aux[0:-1].flatten())\n",
    "        if eva>0 and len(positivos)<N/2:\n",
    "            x1aux[-1]=1\n",
    "            positivos.append(x1aux.flatten())\n",
    "        if eva<0 and len(negativos)<N/2:\n",
    "            x1aux[-1]=-1\n",
    "            negativos.append(x1aux.flatten())\n",
    "        if len(positivos) == N/2 and len(negativos) == N/2:\n",
    "            break\n",
    "    return np.asarray(positivos),np.asarray(negativos),np.asarray(positivos+negativos)\n",
    "\n",
    "def perceptron(dSepar,mino,maximo,dim):\n",
    "    actuali=0    \n",
    "    w0=[1]*(dim+1)#se inicializa w0\n",
    "    while True:\n",
    "        parada=0    \n",
    "        #Se evaluan todos los puntos, si w0 calsifica mal alguno, se actualiza w0 y se vuelven a evaluar los puntos\n",
    "        #desde el principio\n",
    "        for i in dSepar[2]:        \n",
    "            parada+=1\n",
    "            eva=np.dot(w0, i[0:-1].flatten())            \n",
    "            if eva*i[-1]<0 and i[-1]==1:            \n",
    "                w0=w0+i[0:-1].flatten()            \n",
    "                actuali+=1\n",
    "                break\n",
    "            if eva*i[-1]<0 and i[-1]==-1:\n",
    "                w0=w0-i[0:-1].flatten()            \n",
    "                actuali+=1\n",
    "                break       \n",
    "        if parada==len(dSepar[2]):        \n",
    "            break\n",
    "    \n",
    "    return w0,actuali\n",
    "\n",
    "# Se establecen los parametros\n",
    "dim=2\n",
    "mino=-100\n",
    "maximo=100\n",
    "N=250\n",
    "x1 = list(range(-100,101))\n",
    "\n",
    "#Se crean los datos para graficar una función objetivo aleatoriamente\n",
    "Wf=W_f(dim,mino,maximo)\n",
    "\n",
    "x2_f=recta(Wf,x1)\n",
    "\n",
    "#Se generan los datos para graficar los puntos separables\n",
    "dSepar=datos_separbles(N,Wf,mino,maximo)\n",
    "\n",
    "positivosx1=[]\n",
    "positivosx2=[]\n",
    "negativosx1=[]\n",
    "negativosx2=[]\n",
    "\n",
    "for i in dSepar[0]:\n",
    "    positivosx1.append(i[1])\n",
    "    positivosx2.append(i[2])\n",
    "for i in dSepar[1]:\n",
    "    negativosx1.append(i[1])\n",
    "    negativosx2.append(i[2])\n",
    "\n",
    "# Se generan los datos para graficar g\n",
    "Aux=perceptron(dSepar,mino,maximo,dim)\n",
    "Wg=Aux[0]\n",
    "actuali=Aux[1]\n",
    "x2_g=recta(Wg,x1)\n",
    "\n",
    "#Se grafica los datos\n",
    "plt.plot(x1, x2_f,'b', label=\"$f$\")\n",
    "plt.plot(x1, x2_g,'y', label=\"$g$\")\n",
    "plt.plot(positivosx1,positivosx2,marker='+',linewidth=0,c='g',label=\"$h(X)=+1$\")\n",
    "plt.plot(negativosx1,negativosx2,marker='$-$',linewidth=0,c='r',label=\"$h(X)=-1$\")\n",
    "plt.legend(bbox_to_anchor=(1.05, 1.0), loc='upper left')\n",
    "plt.xlabel('$x_{1}$')\n",
    "plt.ylabel('$x_{2}$')\n",
    "plt.show()\n",
    "print(f'Wf={Wf}\\nWg={Wg}\\nActulizaciones={actuali}\\ncos(Θ)={np.dot(Wf.flatten(), Wg.flatten())/(np.linalg.norm(Wf)*np.linalg.norm(Wg))}')"
   ]
  },
  {
   "cell_type": "code",
   "execution_count": null,
   "metadata": {},
   "outputs": [],
   "source": []
  }
 ],
 "metadata": {
  "kernelspec": {
   "display_name": "Python 3",
   "language": "python",
   "name": "python3"
  },
  "language_info": {
   "codemirror_mode": {
    "name": "ipython",
    "version": 3
   },
   "file_extension": ".py",
   "mimetype": "text/x-python",
   "name": "python",
   "nbconvert_exporter": "python",
   "pygments_lexer": "ipython3",
   "version": "3.7.6"
  }
 },
 "nbformat": 4,
 "nbformat_minor": 4
}
